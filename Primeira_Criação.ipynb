{
  "nbformat": 4,
  "nbformat_minor": 0,
  "metadata": {
    "colab": {
      "name": "Primeira Criação",
      "provenance": [],
      "toc_visible": true,
      "authorship_tag": "ABX9TyOslOuHupE73DsUCihL5h93",
      "include_colab_link": true
    },
    "kernelspec": {
      "name": "python3",
      "display_name": "Python 3"
    },
    "language_info": {
      "name": "python"
    }
  },
  "cells": [
    {
      "cell_type": "markdown",
      "metadata": {
        "id": "view-in-github",
        "colab_type": "text"
      },
      "source": [
        "<a href=\"https://colab.research.google.com/github/gabrielbruno1999/GoogleColab/blob/main/Primeira_Cria%C3%A7%C3%A3o.ipynb\" target=\"_parent\"><img src=\"https://colab.research.google.com/assets/colab-badge.svg\" alt=\"Open In Colab\"/></a>"
      ]
    },
    {
      "cell_type": "markdown",
      "metadata": {
        "id": "qZQZDowxn0UH"
      },
      "source": [
        "# Primeiro Texto\n",
        "\n"
      ]
    },
    {
      "cell_type": "code",
      "metadata": {
        "colab": {
          "base_uri": "https://localhost:8080/"
        },
        "id": "2bzxBatgm23j",
        "outputId": "7a22d204-a644-4c11-aa39-3dafbb662a2d"
      },
      "source": [
        "primeiroCodigo = 2+2\n",
        "primeiroCodigo"
      ],
      "execution_count": null,
      "outputs": [
        {
          "output_type": "execute_result",
          "data": {
            "text/plain": [
              "4"
            ]
          },
          "metadata": {
            "tags": []
          },
          "execution_count": 3
        }
      ]
    },
    {
      "cell_type": "markdown",
      "metadata": {
        "id": "8G4ttEm7onGJ"
      },
      "source": [
        "# Nova seção\n",
        "Ola mundo"
      ]
    }
  ]
}