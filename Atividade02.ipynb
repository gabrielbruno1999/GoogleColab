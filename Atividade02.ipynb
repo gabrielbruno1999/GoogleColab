{
  "nbformat": 4,
  "nbformat_minor": 0,
  "metadata": {
    "colab": {
      "name": "Atividade02.ipynb",
      "provenance": [],
      "authorship_tag": "ABX9TyNZ+RDt19tKCFcIHD01bNUd",
      "include_colab_link": true
    },
    "kernelspec": {
      "name": "python3",
      "display_name": "Python 3"
    },
    "language_info": {
      "name": "python"
    }
  },
  "cells": [
    {
      "cell_type": "markdown",
      "metadata": {
        "id": "view-in-github",
        "colab_type": "text"
      },
      "source": [
        "<a href=\"https://colab.research.google.com/github/gabrielbruno1999/GoogleColab/blob/main/Atividade02.ipynb\" target=\"_parent\"><img src=\"https://colab.research.google.com/assets/colab-badge.svg\" alt=\"Open In Colab\"/></a>"
      ]
    },
    {
      "cell_type": "code",
      "metadata": {
        "id": "dsKFGunUpN1f"
      },
      "source": [
        "import pandas as pd\n",
        "import numpy as np\n",
        "import matplotlib.pyplot as plt"
      ],
      "execution_count": 13,
      "outputs": []
    },
    {
      "cell_type": "markdown",
      "metadata": {
        "id": "VknfX_iekcEc"
      },
      "source": [
        "# Atividade #1\n",
        "Modifique as colunas das cidades adicionando as demais capitais do nordeste e os respectivos dados e imprima o novo dataframe."
      ]
    },
    {
      "cell_type": "code",
      "metadata": {
        "id": "j2N0sj9ulNFD"
      },
      "source": [
        "nome_cidades = pd.Series(['Natal', 'Fortaleza', 'João Pessoa',\n",
        "                          'São Luís', 'Teresina', 'Recife',\n",
        "                          'Maceió', 'Aracaju', 'Salvador'])\n",
        "população = pd.Series([884000, 2669000, 809000,\n",
        "                       1109000,868000,1555000,\n",
        "                       1025000,664000,3957000])\n",
        "pd.DataFrame({ 'Nome Cidades': nome_cidades, 'População': população })"
      ],
      "execution_count": null,
      "outputs": []
    },
    {
      "cell_type": "markdown",
      "metadata": {
        "id": "XcPsfc5Yknwf"
      },
      "source": [
        ""
      ]
    },
    {
      "cell_type": "markdown",
      "metadata": {
        "id": "BAwFAEjBktdZ"
      },
      "source": [
        "# Atividade #2\n",
        "Escolha três cidades das capitais do Nordeste que você quer que seja impressas selecionando as respectivas linhas."
      ]
    },
    {
      "cell_type": "code",
      "metadata": {
        "id": "Fi_1Harwquu6"
      },
      "source": [
        "cidades = pd.DataFrame({ 'Nome da Cidade': nome_cidades, 'População': população })\n",
        "print(type(cidades['Nome da Cidade']))\n",
        "cidades['Nome da Cidade']"
      ],
      "execution_count": null,
      "outputs": []
    },
    {
      "cell_type": "code",
      "metadata": {
        "colab": {
          "base_uri": "https://localhost:8080/",
          "height": 142
        },
        "id": "1ZVmAr1ClNm5",
        "outputId": "1f89a9b7-edc6-4bba-ce4c-b95ca4697b8e"
      },
      "source": [
        "#print(type(cidades['Nome da Cidade'][0:3]))\n",
        "#cidades['Nome da Cidade'][0:3]\n",
        "cidades.loc[[0,5,8]]"
      ],
      "execution_count": 41,
      "outputs": [
        {
          "output_type": "execute_result",
          "data": {
            "text/html": [
              "<div>\n",
              "<style scoped>\n",
              "    .dataframe tbody tr th:only-of-type {\n",
              "        vertical-align: middle;\n",
              "    }\n",
              "\n",
              "    .dataframe tbody tr th {\n",
              "        vertical-align: top;\n",
              "    }\n",
              "\n",
              "    .dataframe thead th {\n",
              "        text-align: right;\n",
              "    }\n",
              "</style>\n",
              "<table border=\"1\" class=\"dataframe\">\n",
              "  <thead>\n",
              "    <tr style=\"text-align: right;\">\n",
              "      <th></th>\n",
              "      <th>Nome da Cidade</th>\n",
              "      <th>População</th>\n",
              "    </tr>\n",
              "  </thead>\n",
              "  <tbody>\n",
              "    <tr>\n",
              "      <th>0</th>\n",
              "      <td>Natal</td>\n",
              "      <td>884000</td>\n",
              "    </tr>\n",
              "    <tr>\n",
              "      <th>5</th>\n",
              "      <td>Recife</td>\n",
              "      <td>1555000</td>\n",
              "    </tr>\n",
              "    <tr>\n",
              "      <th>8</th>\n",
              "      <td>Salvador</td>\n",
              "      <td>3957000</td>\n",
              "    </tr>\n",
              "  </tbody>\n",
              "</table>\n",
              "</div>"
            ],
            "text/plain": [
              "  Nome da Cidade  População\n",
              "0          Natal     884000\n",
              "5         Recife    1555000\n",
              "8       Salvador    3957000"
            ]
          },
          "metadata": {
            "tags": []
          },
          "execution_count": 41
        }
      ]
    },
    {
      "cell_type": "markdown",
      "metadata": {
        "id": "j0wHd05Rk2tk"
      },
      "source": [
        "# Atividade #3\n",
        "Escreva um código que filtre as capitais com mais de 800 mil habitantes."
      ]
    },
    {
      "cell_type": "code",
      "metadata": {
        "id": "v3hRAWwSlOEh",
        "colab": {
          "base_uri": "https://localhost:8080/"
        },
        "outputId": "8cd89e9b-8657-4aa0-a171-03ae05a5a4dd"
      },
      "source": [
        "#import numpy as np\n",
        "\n",
        "np.log(população)"
      ],
      "execution_count": 7,
      "outputs": [
        {
          "output_type": "execute_result",
          "data": {
            "text/plain": [
              "0    13.692212\n",
              "1    14.797214\n",
              "2    13.603554\n",
              "3    13.918969\n",
              "4    13.673947\n",
              "5    14.256986\n",
              "6    13.840203\n",
              "7    13.406037\n",
              "8    15.190997\n",
              "dtype: float64"
            ]
          },
          "metadata": {
            "tags": []
          },
          "execution_count": 7
        }
      ]
    },
    {
      "cell_type": "code",
      "metadata": {
        "id": "ZYkd7qestGkR",
        "colab": {
          "base_uri": "https://localhost:8080/"
        },
        "outputId": "b2555d97-cccf-4054-91b3-5368dd5601b8"
      },
      "source": [
        "população.apply(lambda val: val > 800000)"
      ],
      "execution_count": 43,
      "outputs": [
        {
          "output_type": "execute_result",
          "data": {
            "text/plain": [
              "0     True\n",
              "1     True\n",
              "2     True\n",
              "3     True\n",
              "4     True\n",
              "5     True\n",
              "6     True\n",
              "7    False\n",
              "8     True\n",
              "dtype: bool"
            ]
          },
          "metadata": {
            "tags": []
          },
          "execution_count": 43
        }
      ]
    },
    {
      "cell_type": "markdown",
      "metadata": {
        "id": "bd_ZxCDllB5P"
      },
      "source": [
        "# Atividade #4\n",
        "Escreva um código que crie um gráfico com a população das capitais."
      ]
    },
    {
      "cell_type": "code",
      "metadata": {
        "id": "IGx6AW3PlOgC"
      },
      "source": [
        "print(type(cidades[0:8]))\n",
        "cidades[0:8]"
      ],
      "execution_count": null,
      "outputs": []
    },
    {
      "cell_type": "code",
      "metadata": {
        "colab": {
          "base_uri": "https://localhost:8080/",
          "height": 350
        },
        "id": "n1LT2eKKt_d8",
        "outputId": "09a2a6c8-7648-40c8-c7f8-5a7bdf5cdddf"
      },
      "source": [
        "#import matplotlib.pyplot as plt\n",
        "\n",
        "#cidades.hist('População')\n",
        "x = cidades['Nome da Cidade']\n",
        "y = cidades['População']\n",
        "plt.figure(figsize=[10,5])\n",
        "plt.bar(x,y)\n",
        "plt.axis([-0.5, 8.5, 0, 4000000])\n",
        "plt.title(\"População das Capitais do Nordeste\")\n",
        "plt.xlabel(\"Capitais do Nordeste\")\n",
        "plt.ylabel(\"Número de Habitantes\")\n",
        "#O código abaixo faz o seguinte:\n",
        "#Impede que os valores das populações sejam escritos em notação científica.\n",
        "plt.ticklabel_format(style='plain', axis='y') \n",
        "plt.grid(True)\n",
        "#plt.box(False)\n",
        "plt.show()"
      ],
      "execution_count": 42,
      "outputs": [
        {
          "output_type": "display_data",
          "data": {
            "image/png": "[encoded data removed]",
            "text/plain": [
              "<Figure size 720x360 with 1 Axes>"
            ]
          },
          "metadata": {
            "tags": [],
            "needs_background": "light"
          }
        }
      ]
    }
  ]
}