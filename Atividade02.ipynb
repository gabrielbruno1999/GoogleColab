{
  "nbformat": 4,
  "nbformat_minor": 0,
  "metadata": {
    "colab": {
      "name": "Atividade02.ipynb",
      "provenance": [],
      "authorship_tag": "ABX9TyOiVYsNPzcl5w0HWvIsy+ht",
      "include_colab_link": true
    },
    "kernelspec": {
      "name": "python3",
      "display_name": "Python 3"
    },
    "language_info": {
      "name": "python"
    }
  },
  "cells": [
    {
      "cell_type": "markdown",
      "metadata": {
        "id": "view-in-github",
        "colab_type": "text"
      },
      "source": [
        "<a href=\"https://colab.research.google.com/github/gabrielbruno1999/GoogleColab/blob/main/Atividade02.ipynb\" target=\"_parent\"><img src=\"https://colab.research.google.com/assets/colab-badge.svg\" alt=\"Open In Colab\"/></a>"
      ]
    },
    {
      "cell_type": "code",
      "metadata": {
        "id": "dsKFGunUpN1f"
      },
      "source": [
        "import pandas as pd"
      ],
      "execution_count": null,
      "outputs": []
    },
    {
      "cell_type": "markdown",
      "metadata": {
        "id": "VknfX_iekcEc"
      },
      "source": [
        "# Atividade #1\n",
        "Modifique as colunas das cidades adicionando as demais capitais do nordeste e os respectivos dados e imprima o novo dataframe."
      ]
    },
    {
      "cell_type": "code",
      "metadata": {
        "id": "j2N0sj9ulNFD"
      },
      "source": [
        "nome_cidades = pd.Series(['Natal', 'Fortaleza', 'João Pessoa',\n",
        "                          'São Luís', 'Teresina', 'Recife',\n",
        "                          'Maceió', 'Aracaju', 'Salvador'])\n",
        "população = pd.Series([884000, 2669000, 809000,\n",
        "                       1109000,868000,1555000,\n",
        "                       1025000,664000,3957000])\n",
        "pd.DataFrame({ 'Nome Cidades': nome_cidades, 'População': população })"
      ],
      "execution_count": null,
      "outputs": []
    },
    {
      "cell_type": "markdown",
      "metadata": {
        "id": "XcPsfc5Yknwf"
      },
      "source": [
        ""
      ]
    },
    {
      "cell_type": "markdown",
      "metadata": {
        "id": "BAwFAEjBktdZ"
      },
      "source": [
        "# Atividade #2\n",
        "Escolha três cidades das capitais do Nordeste que você quer que seja impressas selecionando as respectivas linhas."
      ]
    },
    {
      "cell_type": "code",
      "metadata": {
        "id": "Fi_1Harwquu6"
      },
      "source": [
        "cidades = pd.DataFrame({ 'Nome da Cidade': nome_cidades, 'População': população })\n",
        "print(type(cidades['Nome da Cidade']))\n",
        "cidades['Nome da Cidade']"
      ],
      "execution_count": null,
      "outputs": []
    },
    {
      "cell_type": "code",
      "metadata": {
        "colab": {
          "base_uri": "https://localhost:8080/"
        },
        "id": "1ZVmAr1ClNm5",
        "outputId": "f47edefc-8cef-4219-d610-0dd1e6626b81"
      },
      "source": [
        "print(type(cidades['Nome da Cidade'][0:3]))\n",
        "cidades['Nome da Cidade'][0:3]\n",
        "#cidades.loc[[1,7,8]]"
      ],
      "execution_count": null,
      "outputs": [
        {
          "output_type": "stream",
          "text": [
            "<class 'pandas.core.series.Series'>\n"
          ],
          "name": "stdout"
        },
        {
          "output_type": "execute_result",
          "data": {
            "text/plain": [
              "0          Natal\n",
              "1      Fortaleza\n",
              "2    João Pessoa\n",
              "Name: Nome da Cidade, dtype: object"
            ]
          },
          "metadata": {
            "tags": []
          },
          "execution_count": 16
        }
      ]
    },
    {
      "cell_type": "markdown",
      "metadata": {
        "id": "j0wHd05Rk2tk"
      },
      "source": [
        "# Atividade #3\n",
        "Escreva um código que filtre as capitais com mais de 800 mil habitantes."
      ]
    },
    {
      "cell_type": "code",
      "metadata": {
        "id": "v3hRAWwSlOEh"
      },
      "source": [
        "import numpy as np\n",
        "\n",
        "np.log(população)"
      ],
      "execution_count": null,
      "outputs": []
    },
    {
      "cell_type": "code",
      "metadata": {
        "id": "ZYkd7qestGkR"
      },
      "source": [
        "população.apply(lambda val: val > 800000)"
      ],
      "execution_count": null,
      "outputs": []
    },
    {
      "cell_type": "markdown",
      "metadata": {
        "id": "bd_ZxCDllB5P"
      },
      "source": [
        "# Atividade #4\n",
        "Escreva um código que crie um gráfico com a população das capitais."
      ]
    },
    {
      "cell_type": "code",
      "metadata": {
        "id": "IGx6AW3PlOgC"
      },
      "source": [
        "print(type(cidades[0:8]))\n",
        "cidades[0:8]"
      ],
      "execution_count": null,
      "outputs": []
    },
    {
      "cell_type": "code",
      "metadata": {
        "colab": {
          "base_uri": "https://localhost:8080/",
          "height": 328
        },
        "id": "n1LT2eKKt_d8",
        "outputId": "7ac65b0b-7bbf-4726-d421-0365e42aa466"
      },
      "source": [
        "cidades.hist('População')"
      ],
      "execution_count": null,
      "outputs": [
        {
          "output_type": "execute_result",
          "data": {
            "text/plain": [
              "array([[<matplotlib.axes._subplots.AxesSubplot object at 0x7f32725497d0>]],\n",
              "      dtype=object)"
            ]
          },
          "metadata": {
            "tags": []
          },
          "execution_count": 17
        },
        {
          "output_type": "display_data",
          "data": {
            "image/png": "[encoded data removed]",
            "text/plain": [
              "<Figure size 432x288 with 1 Axes>"
            ]
          },
          "metadata": {
            "tags": [],
            "needs_background": "light"
          }
        }
      ]
    }
  ]
}