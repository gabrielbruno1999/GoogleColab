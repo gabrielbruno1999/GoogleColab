{
  "nbformat": 4,
  "nbformat_minor": 0,
  "metadata": {
    "colab": {
      "name": "Trabalho em Grupo.ipynb",
      "provenance": [],
      "include_colab_link": true
    },
    "kernelspec": {
      "name": "python3",
      "display_name": "Python 3"
    },
    "language_info": {
      "name": "python"
    }
  },
  "cells": [
    {
      "cell_type": "markdown",
      "metadata": {
        "id": "view-in-github",
        "colab_type": "text"
      },
      "source": [
        "<a href=\"https://colab.research.google.com/github/gabrielbruno1999/GoogleColab/blob/main/Trabalho_em_Grupo.ipynb\" target=\"_parent\"><img src=\"https://colab.research.google.com/assets/colab-badge.svg\" alt=\"Open In Colab\"/></a>"
      ]
    },
    {
      "cell_type": "markdown",
      "metadata": {
        "id": "svC5pW5rTlDb"
      },
      "source": [
        "# Trabalho do Curso de Extensão\n",
        "\n",
        "**Alunos:**\n",
        "*Gabriel Bruno*,\n",
        "*Marcilio Mozart*,\n",
        "*Matheus Ferreira*\n",
        "\n",
        "**Professor:** *Carlos Artur Guimarães*"
      ]
    },
    {
      "cell_type": "markdown",
      "metadata": {
        "id": "jW0OuCLVTFNZ"
      },
      "source": [
        "1. Problemática:\n",
        "Relatório sobre a criptomoeda Dogecoin, que surgiu como uma \"moeda piada\". Ainda assim, desenvolveu uma grande comunidade on-line, alcançando uma capitalização de US$ 60 milhões em janeiro de 2014. Pretendo com essa pesquisa mostrar o histórico de seu crescimento.\n",
        "\n",
        "2. O que é:\n",
        "Histórico de crescimento da Dogecoin de 2017 a 2021.\n",
        "\n",
        "3. Fonte de Dados:\n",
        "[kaggle](https://www.kaggle.com/tarandeep97/dogecoin-historical-data20172021)\n",
        "\n",
        "4. ONU 2030 área e Objetivo:\n",
        "Economia, Crescimento Econômico & Inovação."
      ]
    },
    {
      "cell_type": "code",
      "metadata": {
        "id": "HFoLKAGIr25d"
      },
      "source": [
        "#Importando Bibliotecas\n",
        "import pandas as pd\n",
        "import matplotlib.pyplot as plt\n",
        "import seaborn as sns\n",
        "import numpy as np\n",
        "import plotly as plt"
      ],
      "execution_count": 1,
      "outputs": []
    },
    {
      "cell_type": "code",
      "metadata": {
        "colab": {
          "base_uri": "https://localhost:8080/",
          "height": 129
        },
        "id": "xqGBRfsPscxT",
        "outputId": "c86f2966-0876-4f24-b04b-79e7ab4baa58"
      },
      "source": [
        "Dogecoin = pd.read_csv(\"filepath_or_buffer, delim_whitespace=True\"/content/Dogecoin.csv\")"
      ],
      "execution_count": 2,
      "outputs": [
        {
          "output_type": "error",
          "ename": "SyntaxError",
          "evalue": "ignored",
          "traceback": [
            "\u001b[0;36m  File \u001b[0;32m\"<ipython-input-2-faf573f40c77>\"\u001b[0;36m, line \u001b[0;32m1\u001b[0m\n\u001b[0;31m    Dogecoin = pd.read_csv(\"filepath_or_buffer, delim_whitespace=True\"/content/Dogecoin.csv\")\u001b[0m\n\u001b[0m                                                                                             ^\u001b[0m\n\u001b[0;31mSyntaxError\u001b[0m\u001b[0;31m:\u001b[0m EOL while scanning string literal\n"
          ]
        }
      ]
    }
  ]
}